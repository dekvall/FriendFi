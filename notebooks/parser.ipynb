{
 "cells": [
  {
   "cell_type": "code",
   "execution_count": null,
   "metadata": {},
   "outputs": [],
   "source": [
    "import pandas as pd\n",
    "from pprint import pprint\n",
    "from os import path\n",
    "from IPython.display import display, HTML\n",
    "import json\n",
    "from pandas.io.json import json_normalize\n",
    "import os\n",
    "import sqlite3 as db"
   ]
  },
  {
   "cell_type": "code",
   "execution_count": null,
   "metadata": {},
   "outputs": [],
   "source": [
    "#!/usr/bin/env python3\n",
    "\n",
    "import pandas as pd\n",
    "from pprint import pprint\n",
    "from os import path\n",
    "import json\n",
    "from pandas.io.json import json_normalize\n",
    "\n",
    "def loadfile(filename):\n",
    "\twith open(filename) as data_file:\n",
    "\t\treturn json.load(data_file)\n",
    "\n",
    "def parse(jsonData):\n",
    "\tif jsonData is None:\n",
    "\t\traise ValueError(\"json is none\")\n",
    "\n",
    "\tcols = ['timestamp', 'confidence',\n",
    "\t\t\t'x', 'y', 'z', 'loc_unit',\n",
    "\t\t\t'latitude', 'longitude', 'geo_unit',\n",
    "\t\t\t'campus', 'building', 'floor']\n",
    "\trows = []\n",
    "\tfor record in jsonData:\n",
    "\t\tfor notif in record['notifications']:\n",
    "\t\t\trows.append([notif['timestamp'], notif['confidenceFactor'],\n",
    "\t\t\t\t\t\t notif['locationCoordinate']['x'], notif['locationCoordinate']['y'], notif['locationCoordinate']['z'], notif['locationCoordinate']['unit'],\n",
    "\t\t\t\t\t\t notif['geoCoordinate']['latitude'], notif['geoCoordinate']['longitude'], notif['geoCoordinate']['unit'],\n",
    "\t\t\t\t\t\t *notif['locationMapHierarchy'].split('>')[0:3], #Avoid zone, whatever that is\n",
    "\t\t\t\t\t\t ])\n",
    "\n",
    "\treturn pd.DataFrame(rows, columns=cols)\n",
    "\n",
    "def extract_macs(dataframe):\n",
    "    return list(dataframe.deviceId.unique())\n",
    "\n",
    "def extract_location_sequence(dataframe, macs):\n",
    "\tpass\n",
    "\n",
    "def extract_geo(dataframe):\n",
    "\tpass\n",
    "\n",
    "sqlite_file = 'old_dump.sqlite'\n",
    "conn = db.connect(sqlite_file)\n",
    "\n",
    "\n",
    "if __name__ == '__main__':\n",
    "    workingdir = os.getcwd()\n",
    "    datadir = os.path.join('..','data')\n",
    "    \n",
    "    for file in sorted(os.path.join(workingdir,datadir,f) for f in os.listdir(datadir) if not os.path.isdir(os.path.join(workingdir,datadir,f))):\n",
    "        print(file)\n",
    "        data = loadfile(file)\n",
    "        df = parse(data)\n",
    "        rows, cols = df.shape\n",
    "        print(f'Writing {rows} record(s) to db:')\n",
    "        #for index, row in df.iterrows():\n",
    "            #print(row[1], row[2], row[3], row[10], row[11])\n",
    "        df.to_sql('RECORDS', conn, if_exists='append', index=False)\n",
    "    #parse('../data/notify.json.2019-11-05-05-45')\n",
    "    "
   ]
  }
 ],
 "metadata": {
  "kernelspec": {
   "display_name": "Python 3",
   "language": "python",
   "name": "python3"
  },
  "language_info": {
   "codemirror_mode": {
    "name": "ipython",
    "version": 3
   },
   "file_extension": ".py",
   "mimetype": "text/x-python",
   "name": "python",
   "nbconvert_exporter": "python",
   "pygments_lexer": "ipython3",
   "version": "3.7.4"
  }
 },
 "nbformat": 4,
 "nbformat_minor": 2
}
