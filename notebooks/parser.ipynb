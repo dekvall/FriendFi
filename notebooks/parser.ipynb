{
 "cells": [
  {
   "cell_type": "code",
   "execution_count": null,
   "metadata": {},
   "outputs": [],
   "source": [
    "import pandas as pd\n",
    "from pprint import pprint\n",
    "from os import path\n",
    "from IPython.display import display, HTML\n",
    "import json\n",
    "from pandas.io.json import json_normalize\n",
    "import os\n"
   ]
  },
  {
   "cell_type": "code",
   "execution_count": null,
   "metadata": {},
   "outputs": [],
   "source": [
    "def parse(filename):\n",
    "    with open(filename) as data_file:\n",
    "        data = json.load(data_file)\n",
    "    cols = ['timestamp', 'confidence',\n",
    "            'x', 'y', 'z', 'loc_unit',\n",
    "            'latitude', 'longitude', 'geo_unit',\n",
    "            'campus', 'building', 'floor',\n",
    "            'deviceId', 'lastSeen']\n",
    "    rows = []\n",
    "    for record in data:\n",
    "        for notif in record['notifications']:\n",
    "            rows.append([notif['timestamp'], notif['confidenceFactor'],\n",
    "                         notif['locationCoordinate']['x'], notif['locationCoordinate']['y'], notif['locationCoordinate']['z'], notif['locationCoordinate']['unit'],\n",
    "                         notif['geoCoordinate']['latitude'], notif['geoCoordinate']['longitude'], notif['geoCoordinate']['unit'],\n",
    "                         *notif['locationMapHierarchy'].split('>')[0:3], #Avoid zone, whatever that is\n",
    "                         notif['deviceId'], notif['lastSeen']])\n",
    "\n",
    "    return pd.DataFrame(rows, columns=cols)\n",
    "    #display(df)\n",
    "\n",
    "def extract_macs(dataframe):\n",
    "    return list(dataframe.deviceId.unique())\n",
    "    #display(dataframe.deviceId.unique())\n",
    "    \n",
    "if __name__ == '__main__':\n",
    "    workingdir = os.getcwd()\n",
    "    datadir = os.path.join('..','data')\n",
    "    df = parse('../data/testing/notify.json.2019-11-04-16-54')\n",
    "    macs = extract_macs(df)\n",
    "    \n",
    "    pprint(macs)\n",
    "#     for file in sorted(os.path.join(workingdir,datadir,f) for f in os.listdir(datadir) if not os.path.isdir(os.path.join(workingdir,datadir,f))):\n",
    "#         print(file)\n",
    "#         parse(file)\n",
    "    #parse('../data/notify.json.2019-11-05-05-45')\n",
    "    "
   ]
  }
 ],
 "metadata": {
  "kernelspec": {
   "display_name": "Python 3",
   "language": "python",
   "name": "python3"
  },
  "language_info": {
   "codemirror_mode": {
    "name": "ipython",
    "version": 3
   },
   "file_extension": ".py",
   "mimetype": "text/x-python",
   "name": "python",
   "nbconvert_exporter": "python",
   "pygments_lexer": "ipython3",
   "version": "3.7.4"
  }
 },
 "nbformat": 4,
 "nbformat_minor": 2
}
